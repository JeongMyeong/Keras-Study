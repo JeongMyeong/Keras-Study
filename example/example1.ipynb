{
 "cells": [
  {
   "cell_type": "code",
   "execution_count": 1,
   "metadata": {},
   "outputs": [],
   "source": [
    "from tensorflow.keras.layers import Dense, Input\n",
    "from tensorflow.keras.models import Model\n",
    "import os\n",
    "import matplotlib.pyplot as plt\n",
    "import numpy as np\n",
    "os.environ[\"CUDA_VISIBLE_DEVICES\"]=\"-1\"                              # CPU 설정\n",
    "# os.environ[\"CUDA_VISIBLE_DEVICES\"]=\"0\"                               # GPU 설정\n"
   ]
  },
  {
   "cell_type": "code",
   "execution_count": 2,
   "metadata": {},
   "outputs": [],
   "source": [
    "def f(x):\n",
    "    y = x+5\n",
    "    return y"
   ]
  },
  {
   "cell_type": "code",
   "execution_count": 3,
   "metadata": {},
   "outputs": [],
   "source": [
    "X = np.array([k for k in range(-1000, 1000)])                      # define x\n",
    "y = np.array([f(x) for x in X])                                                    # define y"
   ]
  },
  {
   "cell_type": "code",
   "execution_count": 4,
   "metadata": {},
   "outputs": [
    {
     "name": "stdout",
     "output_type": "stream",
     "text": [
      "[-1000  -999  -998  -997  -996  -995  -994  -993  -992  -991]\n",
      "[-995 -994 -993 -992 -991 -990 -989 -988 -987 -986]\n"
     ]
    }
   ],
   "source": [
    "print(X[:10])\n",
    "print(y[:10])"
   ]
  },
  {
   "cell_type": "code",
   "execution_count": 5,
   "metadata": {},
   "outputs": [],
   "source": [
    "def gen_model():\n",
    "    input_ = Input(shape=(1,))\n",
    "    hidden = Dense(4, activation='relu')(input_)\n",
    "    output = Dense(1, activation='linear')(hidden)\n",
    "    \n",
    "    \n",
    "    \n",
    "    model = Model(input_, output)\n",
    "    model.compile(loss='mse', optimizer='adam')\n",
    "    \n",
    "    return model"
   ]
  },
  {
   "cell_type": "code",
   "execution_count": 6,
   "metadata": {
    "scrolled": true
   },
   "outputs": [
    {
     "name": "stdout",
     "output_type": "stream",
     "text": [
      "Train on 2000 samples\n",
      "Epoch 1/30\n",
      "2000/2000 [==============================] - 0s 124us/sample - loss: 300488.8525\n",
      "Epoch 2/30\n",
      "2000/2000 [==============================] - 0s 21us/sample - loss: 262615.7037\n",
      "Epoch 3/30\n",
      "2000/2000 [==============================] - 0s 24us/sample - loss: 229033.9390\n",
      "Epoch 4/30\n",
      "2000/2000 [==============================] - 0s 16us/sample - loss: 198589.8474\n",
      "Epoch 5/30\n",
      "2000/2000 [==============================] - 0s 18us/sample - loss: 170756.3146\n",
      "Epoch 6/30\n",
      "2000/2000 [==============================] - 0s 18us/sample - loss: 145144.6471\n",
      "Epoch 7/30\n",
      "2000/2000 [==============================] - 0s 18us/sample - loss: 121612.4539\n",
      "Epoch 8/30\n",
      "2000/2000 [==============================] - 0s 22us/sample - loss: 99818.6106\n",
      "Epoch 9/30\n",
      "2000/2000 [==============================] - 0s 25us/sample - loss: 80008.3842\n",
      "Epoch 10/30\n",
      "2000/2000 [==============================] - 0s 19us/sample - loss: 62420.5474\n",
      "Epoch 11/30\n",
      "2000/2000 [==============================] - 0s 19us/sample - loss: 47147.6201\n",
      "Epoch 12/30\n",
      "2000/2000 [==============================] - 0s 20us/sample - loss: 34278.3451\n",
      "Epoch 13/30\n",
      "2000/2000 [==============================] - 0s 19us/sample - loss: 24107.4533\n",
      "Epoch 14/30\n",
      "2000/2000 [==============================] - 0s 19us/sample - loss: 16263.2077\n",
      "Epoch 15/30\n",
      "2000/2000 [==============================] - 0s 20us/sample - loss: 10492.1866\n",
      "Epoch 16/30\n",
      "2000/2000 [==============================] - 0s 22us/sample - loss: 6487.3223\n",
      "Epoch 17/30\n",
      "2000/2000 [==============================] - 0s 22us/sample - loss: 3812.5805\n",
      "Epoch 18/30\n",
      "2000/2000 [==============================] - 0s 22us/sample - loss: 2135.4773\n",
      "Epoch 19/30\n",
      "2000/2000 [==============================] - 0s 24us/sample - loss: 1155.0837\n",
      "Epoch 20/30\n",
      "2000/2000 [==============================] - 0s 25us/sample - loss: 593.2162\n",
      "Epoch 21/30\n",
      "2000/2000 [==============================] - 0s 25us/sample - loss: 296.0546\n",
      "Epoch 22/30\n",
      "2000/2000 [==============================] - 0s 30us/sample - loss: 142.0391\n",
      "Epoch 23/30\n",
      "2000/2000 [==============================] - 0s 30us/sample - loss: 67.3607\n",
      "Epoch 24/30\n",
      "2000/2000 [==============================] - 0s 23us/sample - loss: 32.5716\n",
      "Epoch 25/30\n",
      "2000/2000 [==============================] - 0s 29us/sample - loss: 16.7289\n",
      "Epoch 26/30\n",
      "2000/2000 [==============================] - 0s 28us/sample - loss: 10.0356\n",
      "Epoch 27/30\n",
      "2000/2000 [==============================] - 0s 32us/sample - loss: 7.2189\n",
      "Epoch 28/30\n",
      "2000/2000 [==============================] - 0s 30us/sample - loss: 6.0765\n",
      "Epoch 29/30\n",
      "2000/2000 [==============================] - 0s 21us/sample - loss: 5.6277\n",
      "Epoch 30/30\n",
      "2000/2000 [==============================] - 0s 18us/sample - loss: 5.4647\n"
     ]
    },
    {
     "data": {
      "text/plain": [
       "<tensorflow.python.keras.callbacks.History at 0x7fddec4e56d8>"
      ]
     },
     "execution_count": 6,
     "metadata": {},
     "output_type": "execute_result"
    }
   ],
   "source": [
    "# 단순 예제로 validation dataset을 구성하지 않음.\n",
    "\n",
    "model = gen_model()\n",
    "model.fit(X, y, batch_size=64, epochs=30)"
   ]
  },
  {
   "cell_type": "code",
   "execution_count": 7,
   "metadata": {},
   "outputs": [
    {
     "data": {
      "text/plain": [
       "array([[2012.2667]], dtype=float32)"
      ]
     },
     "execution_count": 7,
     "metadata": {},
     "output_type": "execute_result"
    }
   ],
   "source": [
    "model.predict([2000])"
   ]
  }
 ],
 "metadata": {
  "kernelspec": {
   "display_name": "Python 3",
   "language": "python",
   "name": "python3"
  },
  "language_info": {
   "codemirror_mode": {
    "name": "ipython",
    "version": 3
   },
   "file_extension": ".py",
   "mimetype": "text/x-python",
   "name": "python",
   "nbconvert_exporter": "python",
   "pygments_lexer": "ipython3",
   "version": "3.5.2"
  }
 },
 "nbformat": 4,
 "nbformat_minor": 4
}
