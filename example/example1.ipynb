{
 "cells": [
  {
   "cell_type": "code",
   "execution_count": 1,
   "metadata": {},
   "outputs": [],
   "source": [
    "from tensorflow.keras.layers import Dense, Input\n",
    "from tensorflow.keras.models import Model\n",
    "import os\n",
    "import matplotlib.pyplot as plt\n",
    "import numpy as np\n",
    "os.environ[\"CUDA_VISIBLE_DEVICES\"]=\"-1\"                                # CPU 설정\n",
    "# os.environ[\"CUDA_VISIBLE_DEVICES\"]=\"0\"                               # GPU 설정\n"
   ]
  },
  {
   "cell_type": "code",
   "execution_count": 2,
   "metadata": {},
   "outputs": [],
   "source": [
    "def f(x):\n",
    "    y = x+5\n",
    "    return y"
   ]
  },
  {
   "cell_type": "code",
   "execution_count": 3,
   "metadata": {},
   "outputs": [],
   "source": [
    "X = np.array([k for k in range(-1000, 1000)])                                      # define x\n",
    "y = np.array([f(x) for x in X])                                                    # define y"
   ]
  },
  {
   "cell_type": "code",
   "execution_count": 4,
   "metadata": {},
   "outputs": [
    {
     "name": "stdout",
     "output_type": "stream",
     "text": [
      "[-1000  -999  -998  -997  -996  -995  -994  -993  -992  -991]\n",
      "[-995 -994 -993 -992 -991 -990 -989 -988 -987 -986]\n"
     ]
    }
   ],
   "source": [
    "print(X[:10])\n",
    "print(y[:10])"
   ]
  },
  {
   "cell_type": "code",
   "execution_count": 5,
   "metadata": {},
   "outputs": [],
   "source": [
    "def gen_model():\n",
    "    input_ = Input(shape=(1,))\n",
    "    hidden = Dense(16, activation='relu')(input_)\n",
    "    output = Dense(1, activation='linear')(hidden)\n",
    "    \n",
    "    \n",
    "    \n",
    "    model = Model(input_, output)\n",
    "    model.compile(loss='mae', optimizer='adam')\n",
    "    \n",
    "    return model"
   ]
  },
  {
   "cell_type": "code",
   "execution_count": 6,
   "metadata": {
    "scrolled": true
   },
   "outputs": [
    {
     "name": "stdout",
     "output_type": "stream",
     "text": [
      "Train on 2000 samples\n",
      "Epoch 1/30\n",
      "2000/2000 [==============================] - 0s 103us/sample - loss: 593.4719\n",
      "Epoch 2/30\n",
      "2000/2000 [==============================] - 0s 15us/sample - loss: 556.8314\n",
      "Epoch 3/30\n",
      "2000/2000 [==============================] - 0s 15us/sample - loss: 520.8228\n",
      "Epoch 4/30\n",
      "2000/2000 [==============================] - 0s 13us/sample - loss: 484.8337\n",
      "Epoch 5/30\n",
      "2000/2000 [==============================] - 0s 15us/sample - loss: 448.1352\n",
      "Epoch 6/30\n",
      "2000/2000 [==============================] - 0s 12us/sample - loss: 410.7376\n",
      "Epoch 7/30\n",
      "2000/2000 [==============================] - 0s 15us/sample - loss: 371.6458\n",
      "Epoch 8/30\n",
      "2000/2000 [==============================] - 0s 15us/sample - loss: 331.2616\n",
      "Epoch 9/30\n",
      "2000/2000 [==============================] - 0s 19us/sample - loss: 288.9849\n",
      "Epoch 10/30\n",
      "2000/2000 [==============================] - 0s 18us/sample - loss: 244.6015\n",
      "Epoch 11/30\n",
      "2000/2000 [==============================] - 0s 16us/sample - loss: 198.3843\n",
      "Epoch 12/30\n",
      "2000/2000 [==============================] - 0s 16us/sample - loss: 150.1645\n",
      "Epoch 13/30\n",
      "2000/2000 [==============================] - 0s 17us/sample - loss: 99.8207\n",
      "Epoch 14/30\n",
      "2000/2000 [==============================] - 0s 11us/sample - loss: 58.3285\n",
      "Epoch 15/30\n",
      "2000/2000 [==============================] - 0s 11us/sample - loss: 31.0033\n",
      "Epoch 16/30\n",
      "2000/2000 [==============================] - 0s 15us/sample - loss: 7.4039\n",
      "Epoch 17/30\n",
      "2000/2000 [==============================] - 0s 14us/sample - loss: 3.4536\n",
      "Epoch 18/30\n",
      "2000/2000 [==============================] - 0s 13us/sample - loss: 2.2569\n",
      "Epoch 19/30\n",
      "2000/2000 [==============================] - 0s 13us/sample - loss: 2.1442\n",
      "Epoch 20/30\n",
      "2000/2000 [==============================] - 0s 11us/sample - loss: 2.1185\n",
      "Epoch 21/30\n",
      "2000/2000 [==============================] - 0s 10us/sample - loss: 2.0552\n",
      "Epoch 22/30\n",
      "2000/2000 [==============================] - 0s 12us/sample - loss: 2.0163\n",
      "Epoch 23/30\n",
      "2000/2000 [==============================] - 0s 13us/sample - loss: 1.9963\n",
      "Epoch 24/30\n",
      "2000/2000 [==============================] - 0s 11us/sample - loss: 2.0063\n",
      "Epoch 25/30\n",
      "2000/2000 [==============================] - 0s 10us/sample - loss: 1.9803\n",
      "Epoch 26/30\n",
      "2000/2000 [==============================] - 0s 10us/sample - loss: 1.9427\n",
      "Epoch 27/30\n",
      "2000/2000 [==============================] - 0s 10us/sample - loss: 1.9394\n",
      "Epoch 28/30\n",
      "2000/2000 [==============================] - 0s 10us/sample - loss: 1.9351\n",
      "Epoch 29/30\n",
      "2000/2000 [==============================] - 0s 11us/sample - loss: 1.8784\n",
      "Epoch 30/30\n",
      "2000/2000 [==============================] - 0s 12us/sample - loss: 1.8738\n"
     ]
    },
    {
     "data": {
      "text/plain": [
       "<tensorflow.python.keras.callbacks.History at 0x7f2ad8234a20>"
      ]
     },
     "execution_count": 6,
     "metadata": {},
     "output_type": "execute_result"
    }
   ],
   "source": [
    "# 단순 예제로 validation dataset을 구성하지 않음.\n",
    "\n",
    "model = gen_model()\n",
    "model.fit(X, y, batch_size=128, epochs=30)"
   ]
  },
  {
   "cell_type": "code",
   "execution_count": 7,
   "metadata": {},
   "outputs": [
    {
     "name": "stdout",
     "output_type": "stream",
     "text": [
      "[[2012.5762]]\n"
     ]
    }
   ],
   "source": [
    "print(model.predict([2000]))"
   ]
  }
 ],
 "metadata": {
  "kernelspec": {
   "display_name": "Python 3",
   "language": "python",
   "name": "python3"
  },
  "language_info": {
   "codemirror_mode": {
    "name": "ipython",
    "version": 3
   },
   "file_extension": ".py",
   "mimetype": "text/x-python",
   "name": "python",
   "nbconvert_exporter": "python",
   "pygments_lexer": "ipython3",
   "version": "3.5.2"
  }
 },
 "nbformat": 4,
 "nbformat_minor": 4
}
